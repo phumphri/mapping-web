{
 "cells": [
  {
   "cell_type": "markdown",
   "metadata": {},
   "source": [
    "# Mapping Web"
   ]
  },
  {
   "cell_type": "markdown",
   "metadata": {},
   "source": [
    "## Summary\n",
    "This application plots the recent earthquakes onto geographical maps.\n",
    "\n",
    "* The __Basic Visualization__ is just that.  It provides the earthquake information.\n",
    "\n",
    "* The __More Data__ plots the tectonic plates, earthquakes, and additional geographical maps.\n",
    "\n",
    "* The __Time Keeps On Ticking__ is an animated display of recent earthquakes."
   ]
  },
  {
   "cell_type": "markdown",
   "metadata": {},
   "source": [
    "## Data Acquisition\n",
    "### United States Geological Survey\n",
    "This was the source for the earthquake data.\n",
    "\n",
    "### Geographical Maps\n",
    "Multiple geographical maps were sourced from the mapbox website.  Some used were \"light\", \"dark\", \"outdoors\", and \"satellite\".\n",
    "\n",
    "### Tectonic Plates\n",
    "A comprehensive libraryby Peter Bird was downloaded from Geochemistry Geophysics Geosystems."
   ]
  },
  {
   "cell_type": "markdown",
   "metadata": {},
   "source": [
    "## Execution\n",
    "* Initialize a directory for github processing.\n",
    "* Pull the repository.\n",
    "* Run python -m http.server from the directory.\n",
    "* Select index.html.\n",
    "* When index.html is displayed, a sub-display of \"More Data\" or \"Time Keeps On Ticking\" can be selected from a menu.\n",
    "The application is designed to be extended.  Additional pages can be easily added by adding the html module and corresponding\n",
    "javascript."
   ]
  }
 ],
 "metadata": {
  "kernelspec": {
   "display_name": "Python 3",
   "language": "python",
   "name": "python3"
  },
  "language_info": {
   "codemirror_mode": {
    "name": "ipython",
    "version": 3
   },
   "file_extension": ".py",
   "mimetype": "text/x-python",
   "name": "python",
   "nbconvert_exporter": "python",
   "pygments_lexer": "ipython3",
   "version": "3.6.3"
  }
 },
 "nbformat": 4,
 "nbformat_minor": 2
}
